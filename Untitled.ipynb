{
 "cells": [
  {
   "cell_type": "code",
   "execution_count": 13,
   "metadata": {},
   "outputs": [],
   "source": [
    "import pandas as pd"
   ]
  },
  {
   "cell_type": "code",
   "execution_count": 14,
   "metadata": {},
   "outputs": [],
   "source": [
    "df=pd.read_csv(\"caida.csv\")"
   ]
  },
  {
   "cell_type": "code",
   "execution_count": 15,
   "metadata": {},
   "outputs": [
    {
     "data": {
      "text/html": [
       "<div>\n",
       "<style scoped>\n",
       "    .dataframe tbody tr th:only-of-type {\n",
       "        vertical-align: middle;\n",
       "    }\n",
       "\n",
       "    .dataframe tbody tr th {\n",
       "        vertical-align: top;\n",
       "    }\n",
       "\n",
       "    .dataframe thead th {\n",
       "        text-align: right;\n",
       "    }\n",
       "</style>\n",
       "<table border=\"1\" class=\"dataframe\">\n",
       "  <thead>\n",
       "    <tr style=\"text-align: right;\">\n",
       "      <th></th>\n",
       "      <th>Hilera</th>\n",
       "      <th>Planta</th>\n",
       "      <th>Flor</th>\n",
       "      <th>Campana</th>\n",
       "      <th>Fundo</th>\n",
       "      <th>Parcela</th>\n",
       "      <th>Lote</th>\n",
       "      <th>Variedad</th>\n",
       "      <th>Turno</th>\n",
       "    </tr>\n",
       "  </thead>\n",
       "  <tbody>\n",
       "    <tr>\n",
       "      <th>0</th>\n",
       "      <td>3</td>\n",
       "      <td>31</td>\n",
       "      <td>1</td>\n",
       "      <td>2021</td>\n",
       "      <td>YAKUY MINKA</td>\n",
       "      <td>P900</td>\n",
       "      <td>L12003</td>\n",
       "      <td>W. Murcott</td>\n",
       "      <td>III</td>\n",
       "    </tr>\n",
       "    <tr>\n",
       "      <th>1</th>\n",
       "      <td>6</td>\n",
       "      <td>8</td>\n",
       "      <td>1</td>\n",
       "      <td>2021</td>\n",
       "      <td>YAKUY MINKA</td>\n",
       "      <td>P900</td>\n",
       "      <td>L12003</td>\n",
       "      <td>W. Murcott</td>\n",
       "      <td>III</td>\n",
       "    </tr>\n",
       "    <tr>\n",
       "      <th>2</th>\n",
       "      <td>10</td>\n",
       "      <td>15</td>\n",
       "      <td>1</td>\n",
       "      <td>2021</td>\n",
       "      <td>YAKUY MINKA</td>\n",
       "      <td>P900</td>\n",
       "      <td>L12003</td>\n",
       "      <td>W. Murcott</td>\n",
       "      <td>III</td>\n",
       "    </tr>\n",
       "    <tr>\n",
       "      <th>3</th>\n",
       "      <td>13</td>\n",
       "      <td>7</td>\n",
       "      <td>1</td>\n",
       "      <td>2021</td>\n",
       "      <td>YAKUY MINKA</td>\n",
       "      <td>P900</td>\n",
       "      <td>L12003</td>\n",
       "      <td>W. Murcott</td>\n",
       "      <td>III</td>\n",
       "    </tr>\n",
       "    <tr>\n",
       "      <th>4</th>\n",
       "      <td>16</td>\n",
       "      <td>27</td>\n",
       "      <td>1</td>\n",
       "      <td>2021</td>\n",
       "      <td>YAKUY MINKA</td>\n",
       "      <td>P900</td>\n",
       "      <td>L12003</td>\n",
       "      <td>W. Murcott</td>\n",
       "      <td>III</td>\n",
       "    </tr>\n",
       "  </tbody>\n",
       "</table>\n",
       "</div>"
      ],
      "text/plain": [
       "   Hilera  Planta  Flor  Campana        Fundo Parcela    Lote    Variedad  \\\n",
       "0       3      31     1     2021  YAKUY MINKA    P900  L12003  W. Murcott   \n",
       "1       6       8     1     2021  YAKUY MINKA    P900  L12003  W. Murcott   \n",
       "2      10      15     1     2021  YAKUY MINKA    P900  L12003  W. Murcott   \n",
       "3      13       7     1     2021  YAKUY MINKA    P900  L12003  W. Murcott   \n",
       "4      16      27     1     2021  YAKUY MINKA    P900  L12003  W. Murcott   \n",
       "\n",
       "  Turno  \n",
       "0   III  \n",
       "1   III  \n",
       "2   III  \n",
       "3   III  \n",
       "4   III  "
      ]
     },
     "execution_count": 15,
     "metadata": {},
     "output_type": "execute_result"
    }
   ],
   "source": [
    "df.head()"
   ]
  },
  {
   "cell_type": "code",
   "execution_count": 16,
   "metadata": {},
   "outputs": [
    {
     "data": {
      "text/html": [
       "\n",
       "        <iframe\n",
       "            width=\"100%\"\n",
       "            height=\"500\"\n",
       "            src=\"pivottablejs.html\"\n",
       "            frameborder=\"0\"\n",
       "            allowfullscreen\n",
       "        ></iframe>\n",
       "        "
      ],
      "text/plain": [
       "<IPython.lib.display.IFrame at 0x15172aeb348>"
      ]
     },
     "execution_count": 16,
     "metadata": {},
     "output_type": "execute_result"
    }
   ],
   "source": [
    "from pivottablejs import pivot_ui\n",
    "pivot_ui(df)"
   ]
  },
  {
   "cell_type": "code",
   "execution_count": null,
   "metadata": {},
   "outputs": [],
   "source": []
  },
  {
   "cell_type": "code",
   "execution_count": null,
   "metadata": {},
   "outputs": [],
   "source": []
  }
 ],
 "metadata": {
  "kernelspec": {
   "display_name": "Python 3",
   "language": "python",
   "name": "python3"
  },
  "language_info": {
   "codemirror_mode": {
    "name": "ipython",
    "version": 3
   },
   "file_extension": ".py",
   "mimetype": "text/x-python",
   "name": "python",
   "nbconvert_exporter": "python",
   "pygments_lexer": "ipython3",
   "version": "3.7.6"
  }
 },
 "nbformat": 4,
 "nbformat_minor": 4
}
